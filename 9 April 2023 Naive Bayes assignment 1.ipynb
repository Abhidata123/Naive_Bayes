{
 "cells": [
  {
   "cell_type": "markdown",
   "id": "0b8fb102-8b92-461b-bb21-c2b7a255cc81",
   "metadata": {},
   "source": [
    "**Q1. What is Bayes' theorem?**"
   ]
  },
  {
   "cell_type": "markdown",
   "id": "fc12d6ea-a871-4de1-81dd-fa05978faf30",
   "metadata": {},
   "source": [
    "Bayes' theorem, named after Reverend Thomas Bayes, is a mathematical formula that describes the relationship between conditional probabilities.\n",
    "\n",
    "In its simplest form, Bayes' theorem states that the probability of a hypothesis H given some observed evidence E is proportional to the probability of the evidence E given the hypothesis H, multiplied by the prior probability of the hypothesis H: P(H|E) = P(E|H) * P(H) / P(E)\n",
    "\n",
    "Where:\n",
    "P(H|E) is the posterior probability of H given E (what we want to know)\n",
    "P(E|H) is the likelihood of observing the evidence E given the hypothesis H (how well the evidence supports the hypothesis)\n",
    "P(H) is the prior probability of the hypothesis H (our initial belief in the hypothesis before seeing the evidence)\n",
    "P(E) is the marginal probability of the evidence E (the total probability of observing the evidence, regardless of the hypothesis)\n",
    "\n",
    "Bayes' theorem is a fundamental concept in probability & has many applications in fields such as statistics, machine learning, and artificial intelligence. It provides a way to update our beliefs about the world in light of new evidence and is essential for making informed decisions in uncertain situations."
   ]
  },
  {
   "cell_type": "markdown",
   "id": "eae92552-58e4-4e56-8c44-53e42b9cb9ae",
   "metadata": {},
   "source": [
    "**Q2. What is the formula for Bayes' theorem?**"
   ]
  },
  {
   "cell_type": "markdown",
   "id": "8a5f1de5-4093-4b66-87cc-250c25eb4dc3",
   "metadata": {},
   "source": [
    "The formula for Bayes' theorem is:\n",
    "P(H|E) = P(E|H) * P(H) / P(E)\n",
    "\n",
    "Where:\n",
    "P(H|E) is the posterior probability of H given E (what we want to know)\n",
    "P(E|H) is the likelihood of observing the evidence E given the hypothesis H (how well the evidence supports the hypothesis)\n",
    "P(H) is the prior probability of the hypothesis H (our initial belief in the hypothesis before seeing the evidence)\n",
    "P(E) is the marginal probability of the evidence E (the total probability of observing the evidence, regardless of the hypothesis)\n",
    "\n",
    "This formula is used to update our beliefs about the probability of a hypothesis H being true based on new evidence E. It is a powerful tool in Bayesian statistics and machine learning, allowing us to make more accurate predictions and decisions based on data."
   ]
  },
  {
   "cell_type": "markdown",
   "id": "7c354b84-828e-4a13-8d84-f7184b2237be",
   "metadata": {},
   "source": [
    "**Q3. How is Bayes' theorem used in practice?**"
   ]
  },
  {
   "cell_type": "markdown",
   "id": "61175d6f-11bd-42d4-9f7a-71e06dd643b7",
   "metadata": {},
   "source": [
    "Bayes' theorem is used in practice in a wide range of fields, including statistics, machine learning, artificial intelligence, and decision-making. Also, Bayes' theorem is used in some other applications, which are given below:\n",
    "\n",
    "**Medical diagnosis:** In medicine, Bayes' theorem can be used to calculate the probability of a patient having a disease given their symptoms and other medical information. Doctors can use this information to make more informed decisions about diagnosis and treatment.\n",
    "\n",
    "**Spam filtering:** Bayes' theorem is used in spam filtering algorithms to calculate the probability that an email is spam given its contents. This helps email providers identify and filter out unwanted messages.\n",
    "**Predictive modeling:** In machine learning, Bayes' theorem is used to build predictive models that can make accurate predictions based on past data. This can be useful in a wide range of applications, from stock market forecasting to weather prediction.\n",
    "\n",
    "**A/B testing:** Bayes' theorem is used in A/B testing to determine the probability that one version of a product or service is better than another based on user behavior. This helps businesses optimize their offerings and improve customer satisfaction.\n",
    "\n",
    "**Decision-making:** Bayes' theorem can be used to make decisions in uncertain situations by calculating the expected value of different options. This approach is often used in game theory, finance, and other fields where decision-making under uncertainty is important.\n",
    "\n",
    "Overall, Bayes' theorem provides a powerful framework for making predictions and decisions based on data and has numerous practical applications in a wide range of fields."
   ]
  },
  {
   "cell_type": "markdown",
   "id": "725a5ad6-3316-4be8-be98-ddcd05d180f5",
   "metadata": {},
   "source": [
    "**Q4. What is the relationship between Bayes' theorem and conditional probability?**"
   ]
  },
  {
   "cell_type": "markdown",
   "id": "c9d23977-12ba-4074-bdaa-f30e7ab9af16",
   "metadata": {},
   "source": [
    "Bayes' theorem is a mathematical formula that describes the relationship between conditional probabilities. In fact, Bayes' theorem can be derived from the definition of conditional probability.\n",
    "\n",
    "Conditional probability is the probability of an event states that another event has already occurred. For example, the probability of rolling a six on a die given that the die has already been rolled is a conditional probability. Denoted as P(A|B), where A and B are events, it's stated as \"Probability of A given B.\"\n",
    "\n",
    "Bayes' theorem provides a way to calculate the conditional probability of one event given another event and some prior information. It allows us to update our prior beliefs about the probability of an event occurring based on new evidence.\n",
    "\n",
    "The formula for Bayes' theorem involves multiplying the likelihood of the observed evidence given the hypothesis by the prior probability of the hypothesis and dividing by the marginal probability of the evidence. In this way, Bayes' theorem combines prior beliefs with new evidence to calculate a revised probability of a hypothesis being true.\n",
    "\n",
    "So, in summary, Bayes' theorem and conditional probability are related because Bayes' theorem provides a way to calculate conditional probabilities based on prior information and new evidence."
   ]
  },
  {
   "cell_type": "markdown",
   "id": "46c10ed9-3435-4a02-b714-f0e9e0f69591",
   "metadata": {},
   "source": [
    "**Q5. How do you choose which type of Naive Bayes classifier to use for any given problem?**"
   ]
  },
  {
   "cell_type": "markdown",
   "id": "c58212da-2b5d-4da3-a98b-862e7ca88136",
   "metadata": {},
   "source": [
    "The Naive Bayes classifier is a simple and effective machine learning algorithm that is used for a wide range of applications such as text classification, spam filtering, sentiment analysis, and more. There are three types of Naive Bayes classifiers: Gaussian Naive Bayes, Multinomial Naive Bayes, and Bernoulli Naive Bayes. The choice of which Naive Bayes classifier to use for a given problem depends on the nature of the data and the problem at hand. Here are some guidelines to help you choose the appropriate type of Naive Bayes classifier:\n",
    "\n",
    "**Gaussian Naive Bayes:** This type of classifier is used when the features are continuous variables that follow a Gaussian distribution. It is often used for problems such as image classification and spam filtering, where the features are numeric values.\n",
    "\n",
    "**Multinomial Naive Bayes:** This type of classifier is used when the features are discrete variables such as word counts in text classification problems. It is often used in natural language processing applications, such as sentiment analysis and text classification.\n",
    "\n",
    "**Bernoulli Naive Bayes:** This type of classifier is similar to the Multinomial Naive Bayes classifier, but it is used for solving some text classification problems when the features are binary variables such as the presence or absence of a particular word in a document.\n",
    "\n",
    "In summary, the choice of Naive Bayes classifier depends on the nature of the data and the problem at hand. Gaussian Naive Bayes is used for continuous variables, Multinomial Naive Bayes for discrete variables, and Bernoulli Naive Bayes for binary variables."
   ]
  },
  {
   "cell_type": "markdown",
   "id": "fcd051b6-3fd2-4e6b-851b-7dbe73c64884",
   "metadata": {},
   "source": [
    "**Q6. Assignment:\n",
    "You have a dataset with two features, X1 and X2, and two possible classes, A and B. You want to use Naive\n",
    "Bayes to classify a new instance with features X1 = 3 and X2 = 4. The following table shows the frequency of\n",
    "each feature value for each class:\n",
    "\n",
    "Class X1=1 X1=2 X1=3 X2=1 X2=2 X2=3 X2=4\n",
    "A 3 3 4 4 3 3 3\n",
    "B 2 2 1 2 2 2 3\n",
    "\n",
    "Assuming equal prior probabilities for each class, which class would Naive Bayes predict the new instance\n",
    "to belong to?**"
   ]
  },
  {
   "cell_type": "markdown",
   "id": "aebbc2e2-db3c-4d65-bcfa-6210c74aa29a",
   "metadata": {},
   "source": [
    "To use Naive Bayes to classify the new instance with features X1 = 3 and X2 = 4, we need to calculate the posterior probability of the instance belonging to each class, given the values of X1 and X2. The formula for Naive Bayes is given below:\n",
    "\n",
    "**P(class|X1,X2) = P(X1,X2|class) * P(class) / P(X1,X2)**\n",
    "\n",
    "where class is the class label A or B, and P(X1,X2|class) denotes observing the feature values given the class label. P(class) is the prior probability of the class, and P(X1,X2) is the marginal probability of observing the feature values.\n",
    "\n",
    "To calculate the likelihood of observing the feature values for each class, we can use the frequency table provided in the problem:\n",
    "\n",
    "**P(X1=3,X2=4|A) = 3/7 * 4/7 = 0.1224\n",
    "P(X1=3,X2=4|B) = 0/7 * 1/7 = 0**\n",
    "\n",
    "To calculate the prior probability of each class, we assume that they are equal, i.e., P(A) = P(B) = 0.5.\n",
    "\n",
    "To calculate the marginal probability of observing the feature values, we can use the law of total probability:\n",
    "\n",
    "**P(X1=3,X2=4) = P(X1=3,X2=4|A) * P(A) + P(X1=3,X2=4|B) * P(B)\n",
    "= 0.1224 * 0.5 + 0 * 0.5\n",
    "= 0.0612**\n",
    "\n",
    "Finally, we can calculate the posterior probability of the instance belonging to each class:\n",
    "\n",
    "**P(A|X1=3,X2=4) = P(X1=3,X2=4|A) * P(A) / P(X1=3,X2=4)\n",
    "= 0.1224 * 0.5 / 0.0612\n",
    "= 1**\n",
    "\n",
    "**P(B|X1=3,X2=4) = P(X1=3,X2=4|B) * P(B) / P(X1=3,X2=4)\n",
    "= 0 * 0.5 / 0.0612\n",
    "= 0**\n",
    "\n",
    "Therefore, Naive Bayes would predict that the new instance belongs to class A.\n",
    "\n",
    "ALTERNATIVE METHOD\n",
    "\n",
    "To predict the class of a new instance with features X1 = 3 and X2 = 4 using Naive Bayes, we need to calculate the posterior probabilities of the instance belonging to each class, given the observed feature values. We can use the Naive Bayes formula:\n",
    "\n",
    "**P(class|X1=3,X2=4) = P(X1=3,X2=4|class) * P(class) / P(X1=3,X2=4)**\n",
    "\n",
    "where P(X1=3,X2=4|class) is the likelihood of observing the feature values given the class, P(class) is the prior probability of the class, and P(X1=3,X2=4) is the marginal probability of observing the feature values.\n",
    "\n",
    "To calculate the likelihood of observing the feature values for each class, we can count the number of times each feature value occurs in the training data for each class and compute the corresponding probabilities:\n",
    "\n",
    "**P(X1=3|A) = 4/7, P(X2=4|A) = 3/7, P(X1=3|B) = 0/7, P(X2=4|B) = 1/7**\n",
    "\n",
    "Using these values, we can calculate the posterior probabilities of the new instance belonging to each class, given the observed feature values:\n",
    "\n",
    "**P(A|X1=3,X2=4) = P(X1=3,X2=4|A) * P(A) / P(X1=3,X2=4) = (4/7) * (1/2) / ((4/7)(1/2) + (0/7)(1/2)) = 1\n",
    "P(B|X1=3,X2=4) = P(X1=3,X2=4|B) * P(B) / P(X1=3,X2=4) = (0/7) * (1/2) / ((4/7)(1/2) + (0/7)(1/2)) = 0**\n",
    "\n",
    "Therefore, Naive Bayes would predict that the new instance belongs to class A."
   ]
  },
  {
   "cell_type": "code",
   "execution_count": null,
   "id": "267bc9a8-703a-440f-a32e-6a51eeebf429",
   "metadata": {},
   "outputs": [],
   "source": []
  }
 ],
 "metadata": {
  "kernelspec": {
   "display_name": "Python 3 (ipykernel)",
   "language": "python",
   "name": "python3"
  },
  "language_info": {
   "codemirror_mode": {
    "name": "ipython",
    "version": 3
   },
   "file_extension": ".py",
   "mimetype": "text/x-python",
   "name": "python",
   "nbconvert_exporter": "python",
   "pygments_lexer": "ipython3",
   "version": "3.10.8"
  }
 },
 "nbformat": 4,
 "nbformat_minor": 5
}
